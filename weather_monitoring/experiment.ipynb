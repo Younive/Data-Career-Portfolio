{
 "cells": [
  {
   "cell_type": "code",
   "execution_count": 37,
   "metadata": {},
   "outputs": [],
   "source": [
    "import os\n",
    "from dotenv import load_dotenv\n",
    "import requests\n",
    "import time\n",
    "import json"
   ]
  },
  {
   "cell_type": "code",
   "execution_count": 53,
   "metadata": {},
   "outputs": [],
   "source": [
    "load_dotenv()\n",
    "city_name = \"Bangkok\"\n",
    "openweathermap_api_endpoint =\"https://api.openweathermap.org/data/2.5/weather?q=\"+city_name+\"&appid=\"+os.getenv(\"API_KEY\")+\"&units=metric&lang=en\""
   ]
  },
  {
   "cell_type": "code",
   "execution_count": 54,
   "metadata": {},
   "outputs": [
    {
     "data": {
      "text/plain": [
       "{'coord': {'lon': 100.5167, 'lat': 13.75},\n",
       " 'weather': [{'id': 804,\n",
       "   'main': 'Clouds',\n",
       "   'description': 'overcast clouds',\n",
       "   'icon': '04d'}],\n",
       " 'base': 'stations',\n",
       " 'main': {'temp': 26.76,\n",
       "  'feels_like': 26.56,\n",
       "  'temp_min': 25.94,\n",
       "  'temp_max': 29.95,\n",
       "  'pressure': 1014,\n",
       "  'humidity': 37,\n",
       "  'sea_level': 1014,\n",
       "  'grnd_level': 1013},\n",
       " 'visibility': 10000,\n",
       " 'wind': {'speed': 2.22, 'deg': 7, 'gust': 3.36},\n",
       " 'clouds': {'all': 90},\n",
       " 'dt': 1703226804,\n",
       " 'sys': {'type': 1,\n",
       "  'id': 9235,\n",
       "  'country': 'TH',\n",
       "  'sunrise': 1703201805,\n",
       "  'sunset': 1703242531},\n",
       " 'timezone': 25200,\n",
       " 'id': 1609350,\n",
       " 'name': 'Bangkok',\n",
       " 'cod': 200}"
      ]
     },
     "execution_count": 54,
     "metadata": {},
     "output_type": "execute_result"
    }
   ],
   "source": [
    "response = requests.get(openweathermap_api_endpoint) #fetch API\n",
    "response.json()"
   ]
  },
  {
   "cell_type": "code",
   "execution_count": 78,
   "metadata": {},
   "outputs": [
    {
     "data": {
      "text/plain": [
       "{'id': 804, 'main': 'Clouds', 'description': 'overcast clouds', 'icon': '04d'}"
      ]
     },
     "execution_count": 78,
     "metadata": {},
     "output_type": "execute_result"
    }
   ],
   "source": [
    "weather=response.json()\n",
    "temp = weather[\"main\"][\"temp\"]\n",
    "humidity = weather[\"main\"][\"humidity\"]\n",
    "city = weather['name']\n",
    "x = weather['weather'][0]\n",
    "x"
   ]
  },
  {
   "cell_type": "code",
   "execution_count": 57,
   "metadata": {},
   "outputs": [
    {
     "name": "stdout",
     "output_type": "stream",
     "text": [
      "{\"City\": \"Bangkok\", \"Tempurature\": 26.76, \"Humidity\": 37, \"CreationTime\": \"2023-12-22 13:44:33\"}\n"
     ]
    }
   ],
   "source": [
    "json_message = {\"City\":city, \"Tempurature\": temp, \"Humidity\": humidity, \"CreationTime\": time.strftime(\"%Y-%m-%d %H:%M:%S\")}\n",
    "print(json.dumps(json_message))"
   ]
  },
  {
   "cell_type": "code",
   "execution_count": 69,
   "metadata": {},
   "outputs": [],
   "source": [
    "openweathermap_api_endpoint =\"https://api.openweathermap.org/data/2.5/weather?q=\"+city_name+\"&appid=\"+os.getenv(\"API_KEY\")+\"&units=metric&lang=en\""
   ]
  },
  {
   "cell_type": "code",
   "execution_count": 70,
   "metadata": {},
   "outputs": [],
   "source": [
    "def get_data(city_name):\n",
    "    import requests\n",
    "    import os\n",
    "    from dotenv import load_dotenv\n",
    "    load_dotenv()\n",
    "    openweathermap_api_endpoint =\"https://api.openweathermap.org/data/2.5/weather?q=\"+city_name+\"&appid=\"+os.getenv(\"API_KEY\")+\"&units=metric&lang=en\"\n",
    "    res = requests.get(openweathermap_api_endpoint)\n",
    "    res = res.json()\n",
    "\n",
    "    return res"
   ]
  },
  {
   "cell_type": "code",
   "execution_count": 79,
   "metadata": {},
   "outputs": [
    {
     "name": "stdout",
     "output_type": "stream",
     "text": [
      "Bangkok\n",
      "{'id': 804, 'main': 'Clouds', 'description': 'overcast clouds', 'icon': '04d'}\n",
      "London\n",
      "{'id': 500, 'main': 'Rain', 'description': 'light rain', 'icon': '10n'}\n"
     ]
    }
   ],
   "source": [
    "\n",
    "res1 = get_data(city_name = \"Bangkok\")\n",
    "print(res1['name'])\n",
    "print(res1['weather'][0])\n",
    "\n",
    "res2 = get_data(city_name = \"London\")\n",
    "print(res2['name'])\n",
    "print(res2['weather'][0])"
   ]
  },
  {
   "cell_type": "code",
   "execution_count": 5,
   "metadata": {},
   "outputs": [],
   "source": [
    "from pyspark.sql import SparkSession\n",
    "from pyspark.sql.avro.functions import from_avro, to_avro\n",
    "from pyspark.sql.functions import from_json, col\n",
    "from pyspark.sql.types import StructType, StructField, StringType, DoubleType\n",
    "import pandas as pd\n",
    "import json"
   ]
  },
  {
   "cell_type": "code",
   "execution_count": 13,
   "metadata": {},
   "outputs": [],
   "source": [
    "spark = SparkSession.builder.appName(\"pyspark-notebook\").\\\n",
    "config(\"spark.jars.packages\",\"org.apache.spark:spark-sql-kafka-0-10_2.13:3.4.1,com.datastax.spark:spark-cassandra-connector_2.13:3.4.1\").\\\n",
    "config('spark.cassandra.connection.host', 'localhost'). \\\n",
    "getOrCreate()"
   ]
  },
  {
   "cell_type": "code",
   "execution_count": 14,
   "metadata": {},
   "outputs": [],
   "source": [
    "data = spark\\\n",
    "  .readStream\\\n",
    "  .format(\"kafka\")\\\n",
    "  .option(\"kafka.bootstrap.servers\", \"localhost:9092\")\\\n",
    "  .option(\"subscribe\", \"weather_monitoring\")\\\n",
    "  .option(\"startingOffsets\", \"earliest\")\\\n",
    "  .load()\\\n",
    "  .selectExpr(\"CAST(key AS STRING)\", \"CAST(value AS STRING)\").alias(\"data\").select(\"data.value\")"
   ]
  },
  {
   "cell_type": "code",
   "execution_count": 5,
   "metadata": {},
   "outputs": [
    {
     "name": "stdout",
     "output_type": "stream",
     "text": [
      "root\n",
      " |-- value: string (nullable = true)\n",
      "\n"
     ]
    }
   ],
   "source": [
    "data.printSchema()"
   ]
  },
  {
   "cell_type": "code",
   "execution_count": 6,
   "metadata": {},
   "outputs": [],
   "source": [
    "schema = StructType([\n",
    "        StructField(\"CityName\", StringType()),\n",
    "        StructField(\"Temperature\", DoubleType()),\n",
    "        StructField(\"Humidity\", DoubleType()),\n",
    "        StructField(\"Weather\", StringType()),\n",
    "        StructField(\"CreationTime\", StringType()),\n",
    "    ])"
   ]
  },
  {
   "cell_type": "code",
   "execution_count": 16,
   "metadata": {},
   "outputs": [
    {
     "name": "stdout",
     "output_type": "stream",
     "text": [
      "DataFrame[CityName: string, Temperature: double, Humidity: double, Weather: string, CreationTime: string]\n"
     ]
    }
   ],
   "source": [
    "sel = data.selectExpr(\"CAST(value AS STRING)\") \\\n",
    "        .select(from_json(col('value'), schema).alias('data')).select(\"data.*\")\n",
    "print(sel)"
   ]
  }
 ],
 "metadata": {
  "kernelspec": {
   "display_name": "base",
   "language": "python",
   "name": "python3"
  },
  "language_info": {
   "codemirror_mode": {
    "name": "ipython",
    "version": 3
   },
   "file_extension": ".py",
   "mimetype": "text/x-python",
   "name": "python",
   "nbconvert_exporter": "python",
   "pygments_lexer": "ipython3",
   "version": "3.9.13"
  }
 },
 "nbformat": 4,
 "nbformat_minor": 2
}
